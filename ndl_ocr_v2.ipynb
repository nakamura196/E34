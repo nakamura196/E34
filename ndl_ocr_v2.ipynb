{
  "nbformat": 4,
  "nbformat_minor": 0,
  "metadata": {
    "colab": {
      "name": "ndl_ocr_v2.ipynb",
      "provenance": [],
      "background_execution": "on",
      "private_outputs": true,
      "collapsed_sections": [],
      "toc_visible": true,
      "include_colab_link": true
    },
    "kernelspec": {
      "name": "python3",
      "display_name": "Python 3"
    },
    "language_info": {
      "name": "python"
    },
    "accelerator": "GPU"
  },
  "cells": [
    {
      "cell_type": "markdown",
      "metadata": {
        "id": "view-in-github",
        "colab_type": "text"
      },
      "source": [
        "<a href=\"https://colab.research.google.com/github/nakamura196/E34/blob/master/ndl_ocr_v2.ipynb\" target=\"_parent\"><img src=\"https://colab.research.google.com/assets/colab-badge.svg\" alt=\"Open In Colab\"/></a>"
      ]
    },
    {
      "cell_type": "markdown",
      "source": [
        "# NDLOCRの実行例 Ver.2：Google Driveを用いた画像の入力と結果の保存\n",
        "\n",
        "Google Drive上のフォルダを指定して、当該フォルダに含まれる複数画像に対してOCR処理を実行し、指定したフォルダに認識結果を出力します。\n",
        "\n",
        "**本ノートブック（Ver.2）では、PDFファイルやIIIFマニフェストファイルの入力をサポートしています。また、実行後に認識結果をマージしたテキストファイルをダウンロードすることができます。**\n",
        "\n",
        "## 参考記事\n",
        "\n",
        "https://zenn.dev/nakamura196/articles/b6712981af3384\n",
        "\n",
        "## 参考にしたノートブック\n",
        "\n",
        "@blue0620 さんが作成したノートブック\n",
        "\n",
        "https://github.com/blue0620/NDLOCR-GoogleColabVersion/blob/main/NDLOCR_googlecolabversion.ipynb"
      ],
      "metadata": {
        "id": "eQa1CxUBl9Ap"
      }
    },
    {
      "cell_type": "markdown",
      "source": [
        "## 使用方法\n",
        "\n",
        "- 「1.初期セットアップ」を実行してください。初回のみ実行が必要です。\n",
        "\n",
        "- 「2. 設定」を変更してください。"
      ],
      "metadata": {
        "id": "ec7zStxNmULI"
      }
    },
    {
      "cell_type": "markdown",
      "source": [
        "## 1.初期セットアップ\n",
        "\n",
        "時間がかかります。初回のみ実行が必要です。"
      ],
      "metadata": {
        "id": "4ZbNG-S2mVRy"
      }
    },
    {
      "cell_type": "code",
      "source": [
        "# @title\n",
        "\n",
        "%cd \"/content/\"\n",
        "\n",
        "# 6. google driveのマウント\n",
        "from google.colab import drive\n",
        "drive.mount('/content/drive/')\n",
        "\n",
        "from IPython.display import clear_output \n",
        "\n",
        "# 1. NDLOCRのリポジトリをcloneする(--recursiveを忘れずに！)\n",
        "!rm -rf ndlocr_cli\n",
        "!git clone -q --recursive https://github.com/ndl-lab/ndlocr_cli\n",
        "# !git clone -q --recursive https://github.com/nakamura196/ndlocr_cli\n",
        "clear_output()\n",
        "\n",
        "# 2. 必要なパッケージをインストールする\n",
        "PROJECT_DIR=\"/content/ndlocr_cli\"\n",
        "!pip install -q -r {PROJECT_DIR}/requirements.txt\n",
        "!pip install -q torch==1.8.1+cu111 torchvision==0.9.1+cu111 -f https://download.pytorch.org/whl/lts/1.8/torch_lts.html\n",
        "clear_output()\n",
        "!pip install -q mmcv-full==1.4.0 -f https://download.openmmlab.com/mmcv/dist/cu111/torch1.8.0/index.html\n",
        "##numpyのバージョン問題でcolabでは動かなかったのでアップデートする(参考:https://stackoverflow.com/questions/66060487/valueerror-numpy-ndarray-size-changed-may-indicate-binary-incompatibility-exp)\n",
        "!pip install -q --upgrade numpy\n",
        "clear_output()\n",
        "\n",
        "%cd {PROJECT_DIR}/src/ndl_layout/mmdetection\n",
        "!python setup.py bdist_wheel\n",
        "clear_output()\n",
        "!pip install -q dist/*.whl\n",
        "clear_output()\n",
        "\n",
        "# # 4. OCRに必要な学習済みモデルをダウンロードする\n",
        "\n",
        "%cd {PROJECT_DIR}\n",
        "!wget -q https://lab.ndl.go.jp/dataset/ndlocr/text_recognition/mojilist_NDL.txt -P ./src/text_recognition/models\n",
        "!wget -q https://lab.ndl.go.jp/dataset/ndlocr/text_recognition/ndlenfixed64-mj0-synth1.pth -P ./src/text_recognition/models\n",
        "!wget -q https://lab.ndl.go.jp/dataset/ndlocr/ndl_layout/ndl_layout_config.py -P ./src/ndl_layout/models\n",
        "!wget -q https://lab.ndl.go.jp/dataset/ndlocr/ndl_layout/epoch_140_all_eql_bt.pth -P ./src/ndl_layout/models\n",
        "!wget -q https://lab.ndl.go.jp/dataset/ndlocr/separate_pages_ssd/weights.hdf5 -P ./src/separate_pages_ssd/ssd_tools\n",
        "clear_output()\n",
        "\n",
        "# 5. 環境変数を追加する\n",
        "import os\n",
        "os.environ[\"PYTHONPATH\"]=os.environ[\"PYTHONPATH\"]+\":\"+f\"{PROJECT_DIR}/src/text_recognition/deep-text-recognition-benchmark\"\n",
        "\n",
        "clear_output()\n",
        "\n",
        "# PDF関連\n",
        "!apt-get install poppler-utils\n",
        "!pip install -q pdf2image\n",
        "\n",
        "clear_output()"
      ],
      "metadata": {
        "id": "YFJjVpZARBib",
        "cellView": "form"
      },
      "execution_count": null,
      "outputs": []
    },
    {
      "cell_type": "code",
      "source": [
        "#@title 独自関数のロード\n",
        "\n",
        "from pathlib import Path\n",
        "import glob\n",
        "from tqdm import tqdm\n",
        "from pdf2image import convert_from_path\n",
        "import os\n",
        "import datetime\n",
        "import pytz\n",
        "from google.colab import files\n",
        "import requests\n",
        "import json\n",
        "from urllib import request\n",
        "import time\n",
        "import pprint\n",
        "\n",
        "def getProcessParam(process):\n",
        "  p = \"0..3\"\n",
        "  if process == \"傾き補正,レイアウト抽出,文字認識(OCR)\":\n",
        "    p = \"1..3\"\n",
        "  elif process == \"レイアウト抽出,文字認識(OCR)\":\n",
        "    p = \"2..3\"\n",
        "  elif process == \"文字認識(OCR)\":\n",
        "    p = \"3\"\n",
        "  return p\n",
        "\n",
        "def createParentDir(path):\n",
        "  basename = os.path.basename(path)\n",
        "  parent_path = os.path.dirname(path)\n",
        "  os.makedirs(parent_path, exist_ok=True)\n",
        "\n",
        "def listFiles(input_dir, exts):\n",
        "  paths = []\n",
        "  ext_list = exts.split(\",\")\n",
        "  for ext in ext_list:\n",
        "    files = glob.glob(\"{}/**/*.{}\".format(input_dir, ext), recursive=True)\n",
        "    paths.extend(files)\n",
        "  return sorted(paths)\n",
        "\n",
        "def prepareImgDir(file_id):\n",
        "  print(\"### 入力画像フォルダの作成 ###\")\n",
        "\n",
        "  run_id = datetime.datetime.now(pytz.timezone('Asia/Tokyo')).strftime('%Y%m%d%H%M%S')\n",
        "  tmp_dir = \"/tmp/\" + run_id + \"/\" + file_id\n",
        "\n",
        "  '''\n",
        "  if os.path.exists(tmp_dir):\n",
        "    !rm -rf $tmp_dir\n",
        "  '''\n",
        "\n",
        "  # img_dir\n",
        "  tmp_img_dir = tmp_dir + \"/img\"\n",
        "  os.makedirs(tmp_img_dir, exist_ok=True)\n",
        "\n",
        "  return tmp_dir, tmp_img_dir\n",
        "\n",
        "# 画像のダウンロード\n",
        "def downloadImages(url, output_dir, time_sleep):\n",
        "  print(\"### IIIFマニフェストを用いた画像のダウンロード ###\")\n",
        "  df = requests.get(url).json()\n",
        "  canvases = df[\"sequences\"][0][\"canvases\"]\n",
        "  if process_size > 0:\n",
        "    canvases = canvases[0:process_size]\n",
        "  for i in tqdm(range(len(canvases))):\n",
        "    res = canvases[i][\"images\"][0][\"resource\"]\n",
        "    index = str(i+1).zfill(4)\n",
        "    path = \"{}/{}.jpg\".format(output_dir, index)\n",
        "    os.makedirs(os.path.dirname(path), exist_ok=True)\n",
        "\n",
        "    '''\n",
        "    if \"service\" in res:\n",
        "      info_url = res[\"service\"][\"@id\"]\n",
        "      info = requests.get(info_url + \"/info.json\").json()\n",
        "\n",
        "      json_path = \"{}/json/{}.json\".format(etc_dir, index)\n",
        "      os.makedirs(os.path.dirname(json_path), exist_ok=True)\n",
        "      json.dump(info, open(json_path, \"w\"))\n",
        "\n",
        "      image_width = info[\"width\"]\n",
        "      image_height = info[\"height\"]\n",
        "\n",
        "      # 短辺が1600になるように\n",
        "      size = \",1600\"\n",
        "\n",
        "      if image_width < image_height:\n",
        "        size = \"1600,\"\n",
        "      url = \"{}/full/{}/0/default.jpg\".format(info_url, size)\n",
        "      \n",
        "    else:\n",
        "    '''\n",
        "    url = canvases[i][\"images\"][0][\"resource\"][\"@id\"]\n",
        "\n",
        "    time.sleep(time_sleep)\n",
        "    request.urlretrieve(url, path)\n",
        "\n",
        "def createImagesFromPDF(pdf_path, img_dir, filename):\n",
        "  print(\"### PDFファイルから画像ファイルの作成 ###\")\n",
        "  pdf_path = Path(pdf_path)\n",
        "  img_path=Path(img_dir)\n",
        "  convert_from_path(pdf_path, output_folder=img_path,fmt='jpeg', output_file=pdf_path.stem,dpi=100)\n",
        "\n",
        "def execByLocalPdf(file, process, download=True):\n",
        "  filename = getFileIdAndName(file)\n",
        "  tmp_dir, tmp_img_dir = prepareImgDir(filename)\n",
        "  createImagesFromPDF(file, tmp_img_dir, filename)\n",
        "  main(tmp_dir, output_dir + \"/\" + filename, process, download=download)\n",
        "\n",
        "def getFileIdAndName(path):\n",
        "  print(\"### ファイルIDと名前の取得 ###\")\n",
        "  return path.split(\"/\")[-1].split(\".\")[0]\n",
        "\n",
        "def main(input_dir, output_dir, process, clearOutputFlag=True, download=True):\n",
        "  print(\"### 推論の実行 ###\")  \n",
        "\n",
        "  p = getProcessParam(process)\n",
        "\n",
        "  output_dir_by_param = createOutputDirIfExist(output_dir, p)\n",
        "\n",
        "  # CPUのみを使用する場合\n",
        "  c = \"config.yml\"\n",
        "  '''\n",
        "  try:\n",
        "    if not use_gpu:\n",
        "      c = \"config_cpu.yml\"\n",
        "  except:\n",
        "    pass\n",
        "  '''\n",
        "\n",
        "  !python main.py infer -c $c -s s $input_dir $output_dir_by_param -x -i -p $p\n",
        "  if clearOutputFlag:\n",
        "    clear_output()\n",
        "\n",
        "  if download:\n",
        "    mergeTxtAndDownload(output_dir_by_param)\n",
        "\n",
        "  print(\"認識結果を以下に格納しました。\")\n",
        "  print(output_dir_by_param)\n",
        "\n",
        "# 出力フォルダの設定\n",
        "\n",
        "def createOutputDirIfExist(output_dir, p):\n",
        "  output_dir = output_dir + \"@p\" + p \n",
        "  if os.path.exists(output_dir): \n",
        "    run_id = datetime.datetime.now(pytz.timezone('Asia/Tokyo')).strftime('%Y%m%d%H%M%S')\n",
        "    output_dir = output_dir + \"_\" + run_id\n",
        "    print(\"!!! 指定された出力フォルダが既に存在するため、 {} に出力します。 !!!\".format(output_dir))\n",
        "\n",
        "  # 親フォルダの作成\n",
        "  createParentDir(output_dir)\n",
        "\n",
        "  return output_dir\n",
        "\n",
        "# txtファイルにまとめる\n",
        "def mergeTxtAndDownload(output_dir):\n",
        "  tmp_dirs = glob.glob(output_dir + \"/*/txt\")\n",
        "  txt_dir = tmp_dirs[0]\n",
        "  \n",
        "  file_id = txt_dir.split(\"/\")[-2]\n",
        "  output_id_dir = output_dir + \"/\" + file_id\n",
        "\n",
        "  txt_files = glob.glob(txt_dir + \"/*.txt\")\n",
        "  txt_files = sorted(txt_files)\n",
        "  merged_txt_file_path = output_id_dir + \"/\" + file_id + '.txt'\n",
        "  merged_txt_file = open(merged_txt_file_path, 'a')\n",
        "  for each_txt_file_path in txt_files:\n",
        "    each_txt_file = open(each_txt_file_path, 'r')\n",
        "    data = each_txt_file.read()\n",
        "    each_txt_file.close()\n",
        "    merged_txt_file.write(data+\"\\n\")\n",
        "  merged_txt_file.close()\n",
        "\n",
        "  files.download(merged_txt_file_path)"
      ],
      "metadata": {
        "id": "lBM1IA3iscNW",
        "cellView": "form"
      },
      "execution_count": null,
      "outputs": []
    },
    {
      "cell_type": "markdown",
      "source": [
        "## 2.設定\n",
        "\n",
        "以下、入力方式によって適切なものを選んでください。\n",
        "\n",
        "- 画像\n",
        "  - [単一の画像ファイルのURLを指定する場合](#scrollTo=HugE-wRDxl5E)\n",
        "  - [単一の画像ファイルをアップロードする場合](#scrollTo=Hx0mBi_jk9_s)\n",
        "  - [複数の既にダウンロード済みの画像ファイルを対象にする場合（Sigle input dir mode）](#scrollTo=OPICIT1-Z6_3)\n",
        "  - [複数の既にダウンロード済みの画像ファイルを対象にする場合（Image file mode: 単体の画像ファイルを入力として与える場合）](#scrollTo=7arhNS34eIWM)\n",
        "- PDF\n",
        "  - [単一のPDFファイルのURLを指定する場合](#scrollTo=jlitIIC5SkrR)\n",
        "  - [単一のPDFファイルをアップロードする場合](#scrollTo=yK5kvjlY1T3K)\n",
        "  - [単一の既にダウンロード済みのPDFファイルを対象にする場合](#scrollTo=4DFFxQECQtzJ)\n",
        "  - [複数の既にダウンロード済みのPDFファイルを格納したフォルダを指定する場合](#scrollTo=VXRz_3tn60v5)\n",
        "- IIIF\n",
        "  - [IIIFマニフェストファイルのURLを指定する場合](#scrollTo=LhMvDLsXUZde)"
      ],
      "metadata": {
        "id": "xeMV3Cnpp8nt"
      }
    },
    {
      "cell_type": "markdown",
      "source": [
        "## 画像"
      ],
      "metadata": {
        "id": "6VeHKTrnnbDs"
      }
    },
    {
      "cell_type": "markdown",
      "source": [
        "### 単一の画像ファイルのURLを指定する場合\n",
        "\n",
        "- url: 画像ファイルのURL\n",
        "- output_dir: 出力するフォルダへのパス\n",
        "\n",
        "入力サンプル：「校異源氏物語」（国立国会図書館所蔵）"
      ],
      "metadata": {
        "id": "HugE-wRDxl5E"
      }
    },
    {
      "cell_type": "code",
      "source": [
        "#@title 設定\n",
        "\n",
        "url = \"https://www.dl.ndl.go.jp/api/iiif/3437686/R0000006/full/full/0/default.jpg\" #@param {type:\"string\"}\n",
        "output_dir = \"/content/drive/MyDrive/ndl_ocr/output/image_url\" #@param {type:\"string\"}\n",
        "process = \"\\u3059\\u3079\\u3066: \\u30CE\\u30C9\\u5143\\u5206\\u5272,\\u50BE\\u304D\\u88DC\\u6B63,\\u30EC\\u30A4\\u30A2\\u30A6\\u30C8\\u62BD\\u51FA,\\u6587\\u5B57\\u8A8D\\u8B58(OCR)\" #@param [\"\\u3059\\u3079\\u3066: \\u30CE\\u30C9\\u5143\\u5206\\u5272,\\u50BE\\u304D\\u88DC\\u6B63,\\u30EC\\u30A4\\u30A2\\u30A6\\u30C8\\u62BD\\u51FA,\\u6587\\u5B57\\u8A8D\\u8B58(OCR)\", \"\\u50BE\\u304D\\u88DC\\u6B63,\\u30EC\\u30A4\\u30A2\\u30A6\\u30C8\\u62BD\\u51FA,\\u6587\\u5B57\\u8A8D\\u8B58(OCR)\", \"\\u30EC\\u30A4\\u30A2\\u30A6\\u30C8\\u62BD\\u51FA,\\u6587\\u5B57\\u8A8D\\u8B58(OCR)\", \"\\u6587\\u5B57\\u8A8D\\u8B58(OCR)\"]\n",
        "\n",
        "output_dir = str(Path(output_dir))"
      ],
      "metadata": {
        "id": "rKjOJXSExth7",
        "cellView": "form"
      },
      "execution_count": null,
      "outputs": []
    },
    {
      "cell_type": "code",
      "source": [
        "#@title 実行\n",
        "filename = getFileIdAndName(url)\n",
        "tmp_dir, tmp_img_dir = prepareImgDir(filename)\n",
        "# 画像のダウンロード\n",
        "request.urlretrieve(url, tmp_img_dir+\"/\"+filename+\".jpg\")\n",
        "main(tmp_dir, output_dir + \"/\" + filename, process)\n",
        "\n",
        "def createManifest(input_dir, output_dir, urls):\n",
        "  xml_files = glob.glob(output_dir + \"/*/xml/*.xml\")\n",
        "  xml_file = xml_files[0]\n",
        "\n",
        "  files = glob.glob(input_dir + \"/img/*.jpg\")\n",
        "\n",
        "  for i in range(len(files)):\n",
        "    file = files[i]\n",
        "    url = urls[i]\n",
        "    print(file, url)\n",
        "  print(xml_file)\n",
        "\n",
        "# createManifest(tmp_dir, output_dir, [url])"
      ],
      "metadata": {
        "id": "LZgzWjzdx0zr",
        "cellView": "form"
      },
      "execution_count": null,
      "outputs": []
    },
    {
      "cell_type": "markdown",
      "source": [
        "### 単一の画像ファイルをアップロードする場合\n",
        "\n",
        "- output_dir: 出力するフォルダへのパス\n",
        "\n",
        "以下の設定の再生ボタンを押すと、ファイルのアップロードフォームが表示されます。"
      ],
      "metadata": {
        "id": "Hx0mBi_jk9_s"
      }
    },
    {
      "cell_type": "code",
      "source": [
        "#@title 設定\n",
        "\n",
        "output_dir = \"/content/drive/MyDrive/ndl_ocr/output/image_local\" #@param {type:\"string\"}\n",
        "process = \"\\u3059\\u3079\\u3066: \\u30CE\\u30C9\\u5143\\u5206\\u5272,\\u50BE\\u304D\\u88DC\\u6B63,\\u30EC\\u30A4\\u30A2\\u30A6\\u30C8\\u62BD\\u51FA,\\u6587\\u5B57\\u8A8D\\u8B58(OCR)\" #@param [\"\\u3059\\u3079\\u3066: \\u30CE\\u30C9\\u5143\\u5206\\u5272,\\u50BE\\u304D\\u88DC\\u6B63,\\u30EC\\u30A4\\u30A2\\u30A6\\u30C8\\u62BD\\u51FA,\\u6587\\u5B57\\u8A8D\\u8B58(OCR)\", \"\\u50BE\\u304D\\u88DC\\u6B63,\\u30EC\\u30A4\\u30A2\\u30A6\\u30C8\\u62BD\\u51FA,\\u6587\\u5B57\\u8A8D\\u8B58(OCR)\", \"\\u30EC\\u30A4\\u30A2\\u30A6\\u30C8\\u62BD\\u51FA,\\u6587\\u5B57\\u8A8D\\u8B58(OCR)\", \"\\u6587\\u5B57\\u8A8D\\u8B58(OCR)\"]\n",
        "\n",
        "from google.colab import files\n",
        "uploaded = files.upload()\n",
        "input_file = next(iter(uploaded))\n",
        "\n",
        "output_dir = str(Path(output_dir))"
      ],
      "metadata": {
        "cellView": "form",
        "id": "xxTSijexk9oX"
      },
      "execution_count": null,
      "outputs": []
    },
    {
      "cell_type": "code",
      "source": [
        "#@title 実行\n",
        "filename = getFileIdAndName(input_file)\n",
        "tmp_dir, tmp_img_dir = prepareImgDir(filename)\n",
        "# 画像のコピー\n",
        "output_path = tmp_img_dir+\"/\"+filename+\".jpg\"\n",
        "!cp $input_file $output_path\n",
        "!rm -rf $input_file\n",
        "main(tmp_dir, output_dir + \"/\" + filename, process)"
      ],
      "metadata": {
        "cellView": "form",
        "id": "OPe3Y-0ylswd"
      },
      "execution_count": null,
      "outputs": []
    },
    {
      "cell_type": "markdown",
      "source": [
        "### 複数の既にダウンロード済みの画像ファイルを対象にする場合（Sigle input dir mode）\n",
        "\n",
        "- input_dir: 入力するフォルダのパス\n",
        "  - 指定したフォルダの下にimgフォルダを用意し、その中に画像を格納してください。\n",
        "- output_dir: 出力するフォルダへのパス"
      ],
      "metadata": {
        "id": "OPICIT1-Z6_3"
      }
    },
    {
      "cell_type": "code",
      "source": [
        "#@title 設定\n",
        "\n",
        "input_dir = \"/content/drive/MyDrive/ndl_ocr/input\" #@param {type:\"string\"}\n",
        "output_dir = \"/content/drive/MyDrive/ndl_ocr/output/image_single\" #@param {type:\"string\"}\n",
        "process = \"\\u3059\\u3079\\u3066: \\u30CE\\u30C9\\u5143\\u5206\\u5272,\\u50BE\\u304D\\u88DC\\u6B63,\\u30EC\\u30A4\\u30A2\\u30A6\\u30C8\\u62BD\\u51FA,\\u6587\\u5B57\\u8A8D\\u8B58(OCR)\" #@param [\"\\u3059\\u3079\\u3066: \\u30CE\\u30C9\\u5143\\u5206\\u5272,\\u50BE\\u304D\\u88DC\\u6B63,\\u30EC\\u30A4\\u30A2\\u30A6\\u30C8\\u62BD\\u51FA,\\u6587\\u5B57\\u8A8D\\u8B58(OCR)\", \"\\u50BE\\u304D\\u88DC\\u6B63,\\u30EC\\u30A4\\u30A2\\u30A6\\u30C8\\u62BD\\u51FA,\\u6587\\u5B57\\u8A8D\\u8B58(OCR)\", \"\\u30EC\\u30A4\\u30A2\\u30A6\\u30C8\\u62BD\\u51FA,\\u6587\\u5B57\\u8A8D\\u8B58(OCR)\", \"\\u6587\\u5B57\\u8A8D\\u8B58(OCR)\"]\n",
        "\n",
        "output_dir = str(Path(output_dir))\n",
        "input_dir = str(Path(input_dir))"
      ],
      "metadata": {
        "id": "ys38ZqIqaC55",
        "cellView": "form"
      },
      "execution_count": null,
      "outputs": []
    },
    {
      "cell_type": "code",
      "source": [
        "#@title 実行\n",
        "folder_name = input_dir.split(\"/\")[-1]\n",
        "main(input_dir, output_dir + \"/\" + folder_name, process) # , clearOutputFlag=False"
      ],
      "metadata": {
        "id": "XN3Elhn3aROK",
        "cellView": "form"
      },
      "execution_count": null,
      "outputs": []
    },
    {
      "cell_type": "markdown",
      "source": [
        "### 既にダウンロード済みの画像ファイルを対象にする場合（Image file mode: 単体の画像ファイルを入力として与える場合）\n",
        "\n",
        "- input_dir: 入力するフォルダのパス\n",
        "  - 指定したフォルダに含まれる画像ファイル（jpg）を再帰的に探索します。\n",
        "- output_dir: 出力するフォルダへのパス"
      ],
      "metadata": {
        "id": "7arhNS34eIWM"
      }
    },
    {
      "cell_type": "code",
      "source": [
        "#@title 設定\n",
        "\n",
        "input_dir = \"/content/drive/MyDrive/ndl_ocr/input/img\" #@param {type:\"string\"}\n",
        "output_dir = \"/content/drive/MyDrive/ndl_ocr/output/image_file\" #@param {type:\"string\"}\n",
        "process = \"\\u3059\\u3079\\u3066: \\u30CE\\u30C9\\u5143\\u5206\\u5272,\\u50BE\\u304D\\u88DC\\u6B63,\\u30EC\\u30A4\\u30A2\\u30A6\\u30C8\\u62BD\\u51FA,\\u6587\\u5B57\\u8A8D\\u8B58(OCR)\" #@param [\"\\u3059\\u3079\\u3066: \\u30CE\\u30C9\\u5143\\u5206\\u5272,\\u50BE\\u304D\\u88DC\\u6B63,\\u30EC\\u30A4\\u30A2\\u30A6\\u30C8\\u62BD\\u51FA,\\u6587\\u5B57\\u8A8D\\u8B58(OCR)\", \"\\u50BE\\u304D\\u88DC\\u6B63,\\u30EC\\u30A4\\u30A2\\u30A6\\u30C8\\u62BD\\u51FA,\\u6587\\u5B57\\u8A8D\\u8B58(OCR)\", \"\\u30EC\\u30A4\\u30A2\\u30A6\\u30C8\\u62BD\\u51FA,\\u6587\\u5B57\\u8A8D\\u8B58(OCR)\", \"\\u6587\\u5B57\\u8A8D\\u8B58(OCR)\"]\n",
        "\n",
        "output_dir = str(Path(output_dir))\n",
        "input_dir = str(Path(input_dir))\n",
        "\n",
        "extensions = [\"jpg\", \"jpeg\", \"JPG\", \"JPEG\"]\n",
        "target_files = []\n",
        "for extension in extensions:\n",
        "  tmp_files = glob.glob(\"{}/**/*.{}\".format(input_dir, extension), recursive=True)\n",
        "  target_files.extend(tmp_files)\n",
        "\n",
        "print(\"実行対象のファイルは以下です。\")\n",
        "pprint.pprint(target_files)"
      ],
      "metadata": {
        "cellView": "form",
        "id": "_qcKcbHemykR"
      },
      "execution_count": null,
      "outputs": []
    },
    {
      "cell_type": "code",
      "source": [
        "#@title 実行\n",
        "for file in target_files:\n",
        "  filename = getFileIdAndName(file)\n",
        "  tmp_dir, tmp_img_dir = prepareImgDir(filename)\n",
        "  # downloadImages(url, tmp_img_dir)\n",
        "  output_path = \"{}/{}.jpg\".format(tmp_img_dir, filename)\n",
        "  !cp $file $output_path\n",
        "  main(tmp_dir, output_dir + \"/\" + filename, process, download=False)"
      ],
      "metadata": {
        "cellView": "form",
        "id": "dAYw6chSm0Yn"
      },
      "execution_count": null,
      "outputs": []
    },
    {
      "cell_type": "markdown",
      "source": [
        "## PDF"
      ],
      "metadata": {
        "id": "P0wwJefsnGr7"
      }
    },
    {
      "cell_type": "markdown",
      "source": [
        "### 単一のPDFファイルのURLを指定する場合\n",
        "\n",
        "- url: PDFファイルのURL\n",
        "- output_dir: 出力するフォルダへのパス\n",
        "\n",
        "入力サンプル：「東洋学芸雑誌」（人間文化研究機構国立国語研究所所蔵）"
      ],
      "metadata": {
        "id": "jlitIIC5SkrR"
      }
    },
    {
      "cell_type": "code",
      "source": [
        "#@title 設定\n",
        "\n",
        "url = \"https://dglb01.ninjal.ac.jp/ninjaldl/toyogakuge/001/PDF/tygz-001.pdf\" #@param {type:\"string\"}\n",
        "# https://repository.dl.itc.u-tokyo.ac.jp/record/53864/files/01_hyakunenshi_tsushi01.pdf\n",
        "output_dir = \"/content/drive/MyDrive/ndl_ocr/output/pdf_url\" #@param {type:\"string\"}\n",
        "process = \"\\u30EC\\u30A4\\u30A2\\u30A6\\u30C8\\u62BD\\u51FA,\\u6587\\u5B57\\u8A8D\\u8B58(OCR)\" #@param [\"\\u3059\\u3079\\u3066: \\u30CE\\u30C9\\u5143\\u5206\\u5272,\\u50BE\\u304D\\u88DC\\u6B63,\\u30EC\\u30A4\\u30A2\\u30A6\\u30C8\\u62BD\\u51FA,\\u6587\\u5B57\\u8A8D\\u8B58(OCR)\", \"\\u50BE\\u304D\\u88DC\\u6B63,\\u30EC\\u30A4\\u30A2\\u30A6\\u30C8\\u62BD\\u51FA,\\u6587\\u5B57\\u8A8D\\u8B58(OCR)\", \"\\u30EC\\u30A4\\u30A2\\u30A6\\u30C8\\u62BD\\u51FA,\\u6587\\u5B57\\u8A8D\\u8B58(OCR)\", \"\\u6587\\u5B57\\u8A8D\\u8B58(OCR)\"]\n",
        "\n",
        "output_dir = str(Path(output_dir))\n",
        "# input_dir = str(Path(input_dir))"
      ],
      "metadata": {
        "id": "_4LUHvYqCcxD",
        "cellView": "form"
      },
      "execution_count": null,
      "outputs": []
    },
    {
      "cell_type": "code",
      "source": [
        "#@title　実行\n",
        "\n",
        "filename = getFileIdAndName(url)\n",
        "tmp_dir, tmp_img_dir = prepareImgDir(filename)\n",
        "\n",
        "print(\"### PDFファイルのダウンロード ###\")\n",
        "tmp_pdf_path = tmp_dir + \"/\" + filename + \".pdf\"\n",
        "!curl $url -o $tmp_pdf_path\n",
        "\n",
        "createImagesFromPDF(tmp_pdf_path, tmp_img_dir, filename)\n",
        "\n",
        "main(tmp_dir, output_dir+\"/\"+filename, process)"
      ],
      "metadata": {
        "cellView": "form",
        "id": "E2-ZQLopCzVp"
      },
      "execution_count": null,
      "outputs": []
    },
    {
      "cell_type": "markdown",
      "source": [
        "### 単一のPDFファイルをアップロードする場合\n",
        "\n",
        "- output_dir: 出力するフォルダへのパス\n",
        "\n",
        "以下の設定の再生ボタンを押すと、ファイルのアップロードフォームが表示されます。"
      ],
      "metadata": {
        "id": "yK5kvjlY1T3K"
      }
    },
    {
      "cell_type": "code",
      "source": [
        "#@title 設定\n",
        "\n",
        "output_dir = \"/content/drive/MyDrive/ndl_ocr/output/image_local\" #@param {type:\"string\"}\n",
        "process = \"\\u3059\\u3079\\u3066: \\u30CE\\u30C9\\u5143\\u5206\\u5272,\\u50BE\\u304D\\u88DC\\u6B63,\\u30EC\\u30A4\\u30A2\\u30A6\\u30C8\\u62BD\\u51FA,\\u6587\\u5B57\\u8A8D\\u8B58(OCR)\" #@param [\"\\u3059\\u3079\\u3066: \\u30CE\\u30C9\\u5143\\u5206\\u5272,\\u50BE\\u304D\\u88DC\\u6B63,\\u30EC\\u30A4\\u30A2\\u30A6\\u30C8\\u62BD\\u51FA,\\u6587\\u5B57\\u8A8D\\u8B58(OCR)\", \"\\u50BE\\u304D\\u88DC\\u6B63,\\u30EC\\u30A4\\u30A2\\u30A6\\u30C8\\u62BD\\u51FA,\\u6587\\u5B57\\u8A8D\\u8B58(OCR)\", \"\\u30EC\\u30A4\\u30A2\\u30A6\\u30C8\\u62BD\\u51FA,\\u6587\\u5B57\\u8A8D\\u8B58(OCR)\", \"\\u6587\\u5B57\\u8A8D\\u8B58(OCR)\"]\n",
        "\n",
        "from google.colab import files\n",
        "uploaded = files.upload()\n",
        "input_file = next(iter(uploaded))\n",
        "\n",
        "output_dir = str(Path(output_dir))"
      ],
      "metadata": {
        "cellView": "form",
        "id": "iapSiUCc1TZz"
      },
      "execution_count": null,
      "outputs": []
    },
    {
      "cell_type": "code",
      "source": [
        "#@title　実行\n",
        "\n",
        "filename = getFileIdAndName(input_file)\n",
        "tmp_dir, tmp_img_dir = prepareImgDir(filename)\n",
        "\n",
        "tmp_pdf_path = tmp_dir + \"/\" + filename + \".pdf\"\n",
        "!cp $input_file $tmp_pdf_path\n",
        "!rm -rf $input_file\n",
        "\n",
        "createImagesFromPDF(tmp_pdf_path, tmp_img_dir, filename)\n",
        "\n",
        "main(tmp_dir, output_dir+\"/\"+filename, process)"
      ],
      "metadata": {
        "cellView": "form",
        "id": "T6-GpWw51jcv"
      },
      "execution_count": null,
      "outputs": []
    },
    {
      "cell_type": "markdown",
      "source": [
        "### 単一の既にダウンロード済みのPDFファイルを対象にする場合\n",
        "\n",
        "- input_file: PDFファイルのパス\n",
        "- output_dir: 出力するフォルダへのパス"
      ],
      "metadata": {
        "id": "4DFFxQECQtzJ"
      }
    },
    {
      "cell_type": "code",
      "source": [
        "#@title　設定\n",
        "\n",
        "input_file = \"/content/drive/MyDrive/ndl_ocr/input/pdfs/tygz-001.pdf\" #@param {type:\"string\"}\n",
        "# input_dir = \"/content/drive/MyDrive/ndl_ocr/input/pdfs\"\n",
        "output_dir = \"/content/drive/MyDrive/ndl_ocr/output/pdf_local\" #@param {type:\"string\"}\n",
        "process = \"\\u3059\\u3079\\u3066: \\u30CE\\u30C9\\u5143\\u5206\\u5272,\\u50BE\\u304D\\u88DC\\u6B63,\\u30EC\\u30A4\\u30A2\\u30A6\\u30C8\\u62BD\\u51FA,\\u6587\\u5B57\\u8A8D\\u8B58(OCR)\" #@param [\"\\u3059\\u3079\\u3066: \\u30CE\\u30C9\\u5143\\u5206\\u5272,\\u50BE\\u304D\\u88DC\\u6B63,\\u30EC\\u30A4\\u30A2\\u30A6\\u30C8\\u62BD\\u51FA,\\u6587\\u5B57\\u8A8D\\u8B58(OCR)\", \"\\u50BE\\u304D\\u88DC\\u6B63,\\u30EC\\u30A4\\u30A2\\u30A6\\u30C8\\u62BD\\u51FA,\\u6587\\u5B57\\u8A8D\\u8B58(OCR)\", \"\\u30EC\\u30A4\\u30A2\\u30A6\\u30C8\\u62BD\\u51FA,\\u6587\\u5B57\\u8A8D\\u8B58(OCR)\", \"\\u6587\\u5B57\\u8A8D\\u8B58(OCR)\"]\n",
        "\n",
        "output_dir = str(Path(output_dir))"
      ],
      "metadata": {
        "id": "vS6wUjUQq2ew",
        "cellView": "form"
      },
      "execution_count": null,
      "outputs": []
    },
    {
      "cell_type": "code",
      "source": [
        "#@title 実行\n",
        "execByLocalPdf(input_file, process)"
      ],
      "metadata": {
        "id": "qTYCmtfxuos6",
        "cellView": "form"
      },
      "execution_count": null,
      "outputs": []
    },
    {
      "cell_type": "markdown",
      "source": [
        "### 複数の既にダウンロード済みのPDFファイルを格納したフォルダを指定する場合\n",
        "\n",
        "- input_dir: ダウンロード済みのPDFファイルを格納したフォルダ\n",
        "- output_dir: 出力するフォルダへのパス"
      ],
      "metadata": {
        "id": "VXRz_3tn60v5"
      }
    },
    {
      "cell_type": "code",
      "source": [
        "#@title　設定\n",
        "\n",
        "input_dir = \"/content/drive/MyDrive/ndl_ocr/input/pdfs\" #@param {type:\"string\"}\n",
        "output_dir = \"/content/drive/MyDrive/ndl_ocr/output/pdfs_local\" #@param {type:\"string\"}\n",
        "process = \"\\u3059\\u3079\\u3066: \\u30CE\\u30C9\\u5143\\u5206\\u5272,\\u50BE\\u304D\\u88DC\\u6B63,\\u30EC\\u30A4\\u30A2\\u30A6\\u30C8\\u62BD\\u51FA,\\u6587\\u5B57\\u8A8D\\u8B58(OCR)\" #@param [\"\\u3059\\u3079\\u3066: \\u30CE\\u30C9\\u5143\\u5206\\u5272,\\u50BE\\u304D\\u88DC\\u6B63,\\u30EC\\u30A4\\u30A2\\u30A6\\u30C8\\u62BD\\u51FA,\\u6587\\u5B57\\u8A8D\\u8B58(OCR)\", \"\\u50BE\\u304D\\u88DC\\u6B63,\\u30EC\\u30A4\\u30A2\\u30A6\\u30C8\\u62BD\\u51FA,\\u6587\\u5B57\\u8A8D\\u8B58(OCR)\", \"\\u30EC\\u30A4\\u30A2\\u30A6\\u30C8\\u62BD\\u51FA,\\u6587\\u5B57\\u8A8D\\u8B58(OCR)\", \"\\u6587\\u5B57\\u8A8D\\u8B58(OCR)\"]\n",
        "\n",
        "output_dir = str(Path(output_dir))\n",
        "input_dir = str(Path(input_dir))\n",
        "\n",
        "target_files = glob.glob(input_dir+\"/**/*.pdf\", recursive=True)\n",
        "\n",
        "print(\"実行対象のファイルは以下です。\")\n",
        "pprint.pprint(target_files)"
      ],
      "metadata": {
        "cellView": "form",
        "id": "UnRA1hw97G6W"
      },
      "execution_count": null,
      "outputs": []
    },
    {
      "cell_type": "code",
      "source": [
        "#@title 実行\n",
        "for file in target_files:\n",
        "  execByLocalPdf(file, process, download=False)"
      ],
      "metadata": {
        "cellView": "form",
        "id": "wcLJrDZr7GXr"
      },
      "execution_count": null,
      "outputs": []
    },
    {
      "cell_type": "markdown",
      "source": [
        "## IIIF"
      ],
      "metadata": {
        "id": "1cXtSC0RpEeC"
      }
    },
    {
      "cell_type": "markdown",
      "source": [
        "### IIIFマニフェストファイルのURLを指定する場合\n",
        "\n",
        "- url: IIIFマニフェストファイルのURL\n",
        "- output_dir: 出力するフォルダへのパス\n",
        "- process_size: 処理するcanvas数。-1を指定するとすべてのcanvasを処理対象とする。負荷軽減のため、初期値は5に設定しています。\n",
        "- sleep_time: 画像ダウンロードの間隔（秒数）\n",
        "\n",
        "入力サンプル：「校異源氏物語」（国立国会図書館所蔵）"
      ],
      "metadata": {
        "id": "LhMvDLsXUZde"
      }
    },
    {
      "cell_type": "code",
      "source": [
        "#@title 設定\n",
        "\n",
        "url = \"https://www.dl.ndl.go.jp/api/iiif/3437686/manifest.json\" #@param {type:\"string\"}\n",
        "output_dir = \"/content/drive/MyDrive/ndl_ocr/output/iiif\" #@param {type:\"string\"}\n",
        "process = \"\\u3059\\u3079\\u3066: \\u30CE\\u30C9\\u5143\\u5206\\u5272,\\u50BE\\u304D\\u88DC\\u6B63,\\u30EC\\u30A4\\u30A2\\u30A6\\u30C8\\u62BD\\u51FA,\\u6587\\u5B57\\u8A8D\\u8B58(OCR)\" #@param [\"\\u3059\\u3079\\u3066: \\u30CE\\u30C9\\u5143\\u5206\\u5272,\\u50BE\\u304D\\u88DC\\u6B63,\\u30EC\\u30A4\\u30A2\\u30A6\\u30C8\\u62BD\\u51FA,\\u6587\\u5B57\\u8A8D\\u8B58(OCR)\", \"\\u50BE\\u304D\\u88DC\\u6B63,\\u30EC\\u30A4\\u30A2\\u30A6\\u30C8\\u62BD\\u51FA,\\u6587\\u5B57\\u8A8D\\u8B58(OCR)\", \"\\u30EC\\u30A4\\u30A2\\u30A6\\u30C8\\u62BD\\u51FA,\\u6587\\u5B57\\u8A8D\\u8B58(OCR)\", \"\\u6587\\u5B57\\u8A8D\\u8B58(OCR)\"]\n",
        "\n",
        "process_size =   5#@param {type:\"number\"}\n",
        "sleep_time =   1#@param {type:\"number\"}\n",
        "\n",
        "output_dir = str(Path(output_dir))"
      ],
      "metadata": {
        "cellView": "form",
        "id": "tPJ9M9_YJ6fq"
      },
      "execution_count": null,
      "outputs": []
    },
    {
      "cell_type": "code",
      "source": [
        "#@title 実行\n",
        "filename = getFileIdAndName(url)\n",
        "tmp_dir, tmp_img_dir = prepareImgDir(filename)\n",
        "downloadImages(url, tmp_img_dir, sleep_time)\n",
        "main(tmp_dir, output_dir + \"/\" + filename, process)"
      ],
      "metadata": {
        "id": "EZyd0hF4KKjs",
        "cellView": "form"
      },
      "execution_count": null,
      "outputs": []
    }
  ]
}